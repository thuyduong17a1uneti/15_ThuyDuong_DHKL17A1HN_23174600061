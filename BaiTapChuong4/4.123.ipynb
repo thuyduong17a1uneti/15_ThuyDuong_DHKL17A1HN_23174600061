{
 "cells": [
  {
   "cell_type": "code",
   "execution_count": null,
   "metadata": {},
   "outputs": [],
   "source": [
    "#bài 4.1\n",
    "import numpy as np\n",
    "import pandas as pd\n",
    "\n",
    "# Tạo danh sách, numpy array và từ điển\n",
    "mylist = list('abcdefghijklmnopqrstuvwxyz')\n",
    "myarr = np.arange(26)\n",
    "mydict = dict(zip(mylist, myarr))\n",
    "\n",
    "# Tạo các Series từ danh sách, numpy array và từ điển\n",
    "series_from_list = pd.Series(mylist)\n",
    "series_from_array = pd.Series(myarr)\n",
    "series_from_dict = pd.Series(mydict)\n",
    "\n",
    "print(\"Series từ danh sách:\")\n",
    "print(series_from_list)\n",
    "print(\"\\nSeries từ numpy array:\")\n",
    "print(series_from_array)\n",
    "print(\"\\nSeries từ từ điển:\")\n",
    "print(series_from_dict)\n"
   ]
  },
  {
   "cell_type": "code",
   "execution_count": null,
   "metadata": {},
   "outputs": [],
   "source": [
    "#bài 4.2\n",
    "# Sử dụng từ bài 4.1\n",
    "mylist = list('abcdefghijklmnopqrstuvwxyz')\n",
    "myarr = np.arange(26)\n",
    "mydict = dict(zip(mylist, myarr))\n",
    "\n",
    "# Tạo Series từ từ điển\n",
    "ser = pd.Series(mydict)\n",
    "\n",
    "# Chuyển Series thành DataFrame\n",
    "df = ser.reset_index()\n",
    "df.columns = ['Index', 'Value']\n",
    "\n",
    "print(\"DataFrame từ Series:\")\n",
    "print(df)\n"
   ]
  },
  {
   "cell_type": "code",
   "execution_count": null,
   "metadata": {},
   "outputs": [],
   "source": [
    "#bài 4.3\n",
    "# Tạo ha2i Series\n",
    "ser1 = pd.Series(list('abcdefghijklmnopqrstuvwxyz'))\n",
    "ser2 = pd.Series(np.arange(26))\n",
    "\n",
    "# Kết nối 2 series thành dataFrame\n",
    "df_combined = pd.DataFrame({'Column1': ser1, 'Column2': ser2})\n",
    "\n",
    "print(\"DataFrame kết hợp từ ser1 và ser2:\")\n",
    "print(df_combined)\n"
   ]
  }
 ],
 "metadata": {
  "kernelspec": {
   "display_name": "Python 3",
   "language": "python",
   "name": "python3"
  },
  "language_info": {
   "codemirror_mode": {
    "name": "ipython",
    "version": 3
   },
   "file_extension": ".py",
   "mimetype": "text/x-python",
   "name": "python",
   "nbconvert_exporter": "python",
   "pygments_lexer": "ipython3",
   "version": "3.12.6"
  }
 },
 "nbformat": 4,
 "nbformat_minor": 2
}
