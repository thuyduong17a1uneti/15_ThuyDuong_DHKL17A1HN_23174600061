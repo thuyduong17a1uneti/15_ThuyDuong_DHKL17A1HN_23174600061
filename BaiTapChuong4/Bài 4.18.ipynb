{
 "cells": [
  {
   "cell_type": "code",
   "execution_count": 2,
   "metadata": {},
   "outputs": [
    {
     "name": "stdout",
     "output_type": "stream",
     "text": [
      "1     ranese@egypt.com\n",
      "2            matt@t.co\n",
      "3    narendra@modi.com\n",
      "dtype: object\n"
     ]
    }
   ],
   "source": [
    "import pandas as pd\n",
    "import numpy as np\n",
    "\n",
    "# Tạo Series emails\n",
    "emails = pd.Series(['buying books at amazom,com', 'ranese@egypt.com', 'matt@t.co', 'narendra@modi.com'])\n",
    "\n",
    "# Biểu thức chính quy kiểm tra tính hợp lệ của email\n",
    "pattern = '[A-Za-z0-9._%+-]+@[A-Za-z0-9.-]+\\.[A-Za-z]{2,4}'\n",
    "\n",
    "# Kiểm tra tính hợp lệ của các email\n",
    "valid_emails = emails[emails.str.match(pattern)]\n",
    "\n",
    "# Hiển thị kết quả\n",
    "print(valid_emails)"
   ]
  }
 ],
 "metadata": {
  "kernelspec": {
   "display_name": "Python 3",
   "language": "python",
   "name": "python3"
  },
  "language_info": {
   "codemirror_mode": {
    "name": "ipython",
    "version": 3
   },
   "file_extension": ".py",
   "mimetype": "text/x-python",
   "name": "python",
   "nbconvert_exporter": "python",
   "pygments_lexer": "ipython3",
   "version": "3.11.5"
  }
 },
 "nbformat": 4,
 "nbformat_minor": 2
}
