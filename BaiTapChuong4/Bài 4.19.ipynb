{
 "cells": [
  {
   "cell_type": "code",
   "execution_count": 3,
   "metadata": {},
   "outputs": [],
   "source": [
    "import pandas as pd\n",
    "import numpy as np\n",
    "\n",
    "# Tạo dữ liệu ngẫu nhiên\n",
    "fruit = pd.Series(np.random.choice(['apple', 'banana', 'carrot'], 10))\n",
    "weights = pd.Series(np.linspace(1, 10, 10))\n"
   ]
  },
  {
   "cell_type": "code",
   "execution_count": 4,
   "metadata": {},
   "outputs": [
    {
     "name": "stdout",
     "output_type": "stream",
     "text": [
      "[1.0, 2.0, 3.0, 4.0, 5.0, 6.0, 7.0, 8.0, 9.0, 10.0]\n",
      "['banana', 'carrot', 'apple', 'apple', 'apple', 'apple', 'banana', 'banana', 'banana', 'apple']\n"
     ]
    }
   ],
   "source": [
    "# In danh sách trọng lượng và loại quả\n",
    "print(weights.tolist())  # In danh sách trọng lượng\n",
    "print(fruit.tolist())  # In danh sách các loại quả"
   ]
  },
  {
   "cell_type": "code",
   "execution_count": 5,
   "metadata": {},
   "outputs": [
    {
     "name": "stdout",
     "output_type": "stream",
     "text": [
      "\n",
      "Khối lượng trung bình của từng loại quả:\n",
      "apple     5.60\n",
      "banana    6.25\n",
      "carrot    2.00\n",
      "dtype: float64\n"
     ]
    }
   ],
   "source": [
    "# Tính khối lượng trung bình của từng loại quả\n",
    "average_weights = weights.groupby(fruit).mean()\n",
    "\n",
    "# Hiển thị kết quả\n",
    "print(\"\\nKhối lượng trung bình của từng loại quả:\")\n",
    "print(average_weights)\n"
   ]
  }
 ],
 "metadata": {
  "kernelspec": {
   "display_name": "Python 3",
   "language": "python",
   "name": "python3"
  },
  "language_info": {
   "codemirror_mode": {
    "name": "ipython",
    "version": 3
   },
   "file_extension": ".py",
   "mimetype": "text/x-python",
   "name": "python",
   "nbconvert_exporter": "python",
   "pygments_lexer": "ipython3",
   "version": "3.11.5"
  }
 },
 "nbformat": 4,
 "nbformat_minor": 2
}
