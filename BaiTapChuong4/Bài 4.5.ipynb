{
 "cells": [
  {
   "cell_type": "code",
   "execution_count": 2,
   "metadata": {},
   "outputs": [
    {
     "name": "stdout",
     "output_type": "stream",
     "text": [
      "Chuoi ser la: 0     14.409002\n",
      "1     13.103326\n",
      "2     -0.347677\n",
      "3      7.656464\n",
      "4     14.609016\n",
      "5      3.396486\n",
      "6     12.867249\n",
      "7     15.589594\n",
      "8     -0.588557\n",
      "9     11.266745\n",
      "10     6.260266\n",
      "11    16.526955\n",
      "12    10.694316\n",
      "13    10.415246\n",
      "14     4.150989\n",
      "15     1.895260\n",
      "16     5.877678\n",
      "17    11.025458\n",
      "18    13.451885\n",
      "19     8.182287\n",
      "20    11.345877\n",
      "21     5.474569\n",
      "22    12.504602\n",
      "23     8.156385\n",
      "24     4.947425\n",
      "dtype: float64\n"
     ]
    }
   ],
   "source": [
    "import pandas as pd\n",
    "import numpy as np \n",
    "ser = pd.Series(np.random.normal(10,5,25))\n",
    "print(\"Chuoi ser la:\",ser)"
   ]
  },
  {
   "cell_type": "code",
   "execution_count": 3,
   "metadata": {},
   "outputs": [
    {
     "name": "stdout",
     "output_type": "stream",
     "text": [
      "Gia tri toi thieu trong ser la: -0.588557068042384\n"
     ]
    }
   ],
   "source": [
    "#Gia tri toi thieu trong ser \n",
    "gtri_toi_thieu = ser.min()\n",
    "print(\"Gia tri toi thieu trong ser la:\",gtri_toi_thieu)"
   ]
  },
  {
   "cell_type": "code",
   "execution_count": 4,
   "metadata": {},
   "outputs": [
    {
     "name": "stdout",
     "output_type": "stream",
     "text": [
      "Trung vi cua ser la: 10.415245764583448\n"
     ]
    }
   ],
   "source": [
    "#Trung vi \n",
    "median_ser = ser.median()\n",
    "print(\"Trung vi cua ser la:\",median_ser)"
   ]
  },
  {
   "cell_type": "code",
   "execution_count": 5,
   "metadata": {},
   "outputs": [
    {
     "name": "stdout",
     "output_type": "stream",
     "text": [
      "Phan centile thu 25: 5.474569323358517\n"
     ]
    }
   ],
   "source": [
    "#Phan centile thu 25\n",
    "percentile_25 = ser.quantile(0.25)\n",
    "print(\"Phan centile thu 25:\",percentile_25)"
   ]
  },
  {
   "cell_type": "code",
   "execution_count": 6,
   "metadata": {},
   "outputs": [
    {
     "name": "stdout",
     "output_type": "stream",
     "text": [
      "Phan centile thu 75: 12.867248649953238\n"
     ]
    }
   ],
   "source": [
    "#Phan centile thu 75\n",
    "percentile_75 = ser.quantile(0.75)\n",
    "print(\"Phan centile thu 75:\",percentile_75)"
   ]
  },
  {
   "cell_type": "code",
   "execution_count": 7,
   "metadata": {},
   "outputs": [
    {
     "name": "stdout",
     "output_type": "stream",
     "text": [
      "Gia tri toi da cua ser: 16.52695503023002\n"
     ]
    }
   ],
   "source": [
    "#Gia tri toi da\n",
    "gtri_toi_da = ser.max()\n",
    "print(\"Gia tri toi da cua ser:\",gtri_toi_da)"
   ]
  }
 ],
 "metadata": {
  "kernelspec": {
   "display_name": "Python 3",
   "language": "python",
   "name": "python3"
  },
  "language_info": {
   "codemirror_mode": {
    "name": "ipython",
    "version": 3
   },
   "file_extension": ".py",
   "mimetype": "text/x-python",
   "name": "python",
   "nbconvert_exporter": "python",
   "pygments_lexer": "ipython3",
   "version": "3.11.5"
  }
 },
 "nbformat": 4,
 "nbformat_minor": 2
}
