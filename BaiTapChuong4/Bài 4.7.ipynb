{
 "cells": [
  {
   "cell_type": "code",
   "execution_count": 2,
   "metadata": {},
   "outputs": [],
   "source": [
    "import pandas as pd\n",
    "import numpy as np \n",
    "np.random.RandomState(100)\n",
    "ser = pd.Series(np.random.randint(1,5,[12]))"
   ]
  },
  {
   "cell_type": "code",
   "execution_count": 3,
   "metadata": {},
   "outputs": [
    {
     "name": "stdout",
     "output_type": "stream",
     "text": [
      "Series sau khi thay thế:\n",
      "0     other\n",
      "1         2\n",
      "2         2\n",
      "3         2\n",
      "4         2\n",
      "5         2\n",
      "6         3\n",
      "7     other\n",
      "8         2\n",
      "9     other\n",
      "10        3\n",
      "11        3\n",
      "dtype: object\n"
     ]
    }
   ],
   "source": [
    "# Tìm hai phần tử có tần suất xuất hiện cao nhất\n",
    "top_two = ser.value_counts().nlargest(2).index\n",
    "\n",
    "# Thay thế tất cả các phần tử không nằm trong hai giá trị phổ biến nhất bằng \"other\"\n",
    "ser = ser.where(ser.isin(top_two), other=\"other\")\n",
    "\n",
    "print(\"Series sau khi thay thế:\")\n",
    "print(ser)"
   ]
  }
 ],
 "metadata": {
  "kernelspec": {
   "display_name": "Python 3",
   "language": "python",
   "name": "python3"
  },
  "language_info": {
   "codemirror_mode": {
    "name": "ipython",
    "version": 3
   },
   "file_extension": ".py",
   "mimetype": "text/x-python",
   "name": "python",
   "nbconvert_exporter": "python",
   "pygments_lexer": "ipython3",
   "version": "3.11.5"
  }
 },
 "nbformat": 4,
 "nbformat_minor": 2
}
