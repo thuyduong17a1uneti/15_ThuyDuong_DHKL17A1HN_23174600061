{
 "cells": [
  {
   "cell_type": "code",
   "execution_count": 1,
   "metadata": {},
   "outputs": [],
   "source": [
    "import pandas as pd\n",
    "import numpy as np \n",
    "\n",
    "truth = pd.Series([10,9,6,5,3,1,12,8,13])\n",
    "pred = pd.Series(range(10)) + np.random.random(10)"
   ]
  },
  {
   "cell_type": "code",
   "execution_count": 2,
   "metadata": {},
   "outputs": [
    {
     "name": "stdout",
     "output_type": "stream",
     "text": [
      "Sai số bình phương trung bình (MSE): 26.56962307918165\n"
     ]
    }
   ],
   "source": [
    "# Tính sai số bình phương trung bình (MSE)\n",
    "mse = ((truth - pred) ** 2).mean()\n",
    "\n",
    "# Hiển thị kết quả\n",
    "print(f\"Sai số bình phương trung bình (MSE): {mse}\")"
   ]
  }
 ],
 "metadata": {
  "kernelspec": {
   "display_name": "Python 3",
   "language": "python",
   "name": "python3"
  },
  "language_info": {
   "codemirror_mode": {
    "name": "ipython",
    "version": 3
   },
   "file_extension": ".py",
   "mimetype": "text/x-python",
   "name": "python",
   "nbconvert_exporter": "python",
   "pygments_lexer": "ipython3",
   "version": "3.11.5"
  }
 },
 "nbformat": 4,
 "nbformat_minor": 2
}
