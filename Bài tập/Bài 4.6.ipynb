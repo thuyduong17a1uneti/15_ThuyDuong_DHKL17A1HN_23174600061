{
 "cells": [
  {
   "cell_type": "code",
   "execution_count": 4,
   "metadata": {},
   "outputs": [
    {
     "name": "stdout",
     "output_type": "stream",
     "text": [
      "Chuoi ser la: 0     b\n",
      "1     e\n",
      "2     g\n",
      "3     a\n",
      "4     h\n",
      "5     h\n",
      "6     c\n",
      "7     h\n",
      "8     h\n",
      "9     e\n",
      "10    h\n",
      "11    f\n",
      "12    e\n",
      "13    h\n",
      "14    g\n",
      "15    d\n",
      "16    d\n",
      "17    b\n",
      "18    g\n",
      "19    f\n",
      "20    a\n",
      "21    f\n",
      "22    h\n",
      "23    h\n",
      "24    c\n",
      "25    a\n",
      "26    a\n",
      "27    e\n",
      "28    d\n",
      "29    h\n",
      "dtype: object\n"
     ]
    }
   ],
   "source": [
    "import pandas as pd\n",
    "import numpy as np \n",
    "ser = pd.Series(np.take(list('abcdefgh'),np.random.randint(8,size = 30)))\n",
    "print(\"Chuoi ser la:\",ser)"
   ]
  },
  {
   "cell_type": "markdown",
   "metadata": {},
   "source": [
    "Giải thích từng phần:\n",
    "+ list('abcdefgh'): Tạo một danh sách chứa các ký tự từ 'a' đến 'h'.\n",
    "+ np.random.randint(8, size=30): Tạo một mảng ngẫu nhiên gồm 30 số nguyên trong khoảng từ 0 đến 7 (vì 8 không được tính), để chọn ngẫu nhiên các vị trí trong danh sách ký tự.\n",
    "+ np.take(list('abcdefgh'), np.random.randint(8, size=30)): Dùng hàm np.take để lấy các phần tử từ danh sách 'abcdefgh' dựa trên các chỉ số ngẫu nhiên vừa tạo, kết quả sẽ là một mảng gồm 30 ký tự được chọn ngẫu nhiên từ 'a' đến 'h'.\n",
    "+ pd.Series(...): Chuyển mảng ngẫu nhiên vừa tạo thành một Series của Pandas với tên là ser."
   ]
  },
  {
   "cell_type": "code",
   "execution_count": 5,
   "metadata": {},
   "outputs": [
    {
     "name": "stdout",
     "output_type": "stream",
     "text": [
      "Số lần xuất hiện của mỗi giá trị duy nhất trong ser là: h    9\n",
      "e    4\n",
      "a    4\n",
      "g    3\n",
      "d    3\n",
      "f    3\n",
      "b    2\n",
      "c    2\n",
      "Name: count, dtype: int64\n"
     ]
    }
   ],
   "source": [
    "#Tinh so lan xuat hien\n",
    "value_counts = ser.value_counts()\n",
    "print(\"Số lần xuất hiện của mỗi giá trị duy nhất trong ser là:\",value_counts)"
   ]
  }
 ],
 "metadata": {
  "kernelspec": {
   "display_name": "Python 3",
   "language": "python",
   "name": "python3"
  },
  "language_info": {
   "codemirror_mode": {
    "name": "ipython",
    "version": 3
   },
   "file_extension": ".py",
   "mimetype": "text/x-python",
   "name": "python",
   "nbconvert_exporter": "python",
   "pygments_lexer": "ipython3",
   "version": "3.11.5"
  }
 },
 "nbformat": 4,
 "nbformat_minor": 2
}
