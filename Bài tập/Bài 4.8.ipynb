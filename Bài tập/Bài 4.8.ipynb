{
 "cells": [
  {
   "cell_type": "code",
   "execution_count": 1,
   "metadata": {},
   "outputs": [],
   "source": [
    "import pandas as pd\n",
    "import numpy as np \n",
    "ser = pd.Series(np.random.random(20))"
   ]
  },
  {
   "cell_type": "code",
   "execution_count": 2,
   "metadata": {},
   "outputs": [
    {
     "name": "stdout",
     "output_type": "stream",
     "text": [
      "Chuỗi dữ liệu sau khi thay thế bằng tên phần vị:\n",
      "0      Quantile 8\n",
      "1      Quantile 1\n",
      "2      Quantile 9\n",
      "3      Quantile 7\n",
      "4      Quantile 4\n",
      "5     Quantile 10\n",
      "6     Quantile 10\n",
      "7      Quantile 2\n",
      "8      Quantile 7\n",
      "9      Quantile 8\n",
      "10     Quantile 1\n",
      "11     Quantile 6\n",
      "12     Quantile 9\n",
      "13     Quantile 3\n",
      "14     Quantile 6\n",
      "15     Quantile 2\n",
      "16     Quantile 5\n",
      "17     Quantile 3\n",
      "18     Quantile 4\n",
      "19     Quantile 5\n",
      "dtype: category\n",
      "Categories (10, object): ['Quantile 1' < 'Quantile 2' < 'Quantile 3' < 'Quantile 4' ... 'Quantile 7' < 'Quantile 8' < 'Quantile 9' < 'Quantile 10']\n"
     ]
    }
   ],
   "source": [
    "# Chia dữ liệu thành 10 phần vị bằng nhau và gán nhãn phần vị\n",
    "ser = pd.qcut(ser, q=10, labels=[f\"Quantile {i}\" for i in range(1, 11)])\n",
    "\n",
    "print(\"Chuỗi dữ liệu sau khi thay thế bằng tên phần vị:\")\n",
    "print(ser)"
   ]
  }
 ],
 "metadata": {
  "kernelspec": {
   "display_name": "Python 3",
   "language": "python",
   "name": "python3"
  },
  "language_info": {
   "codemirror_mode": {
    "name": "ipython",
    "version": 3
   },
   "file_extension": ".py",
   "mimetype": "text/x-python",
   "name": "python",
   "nbconvert_exporter": "python",
   "pygments_lexer": "ipython3",
   "version": "3.11.5"
  }
 },
 "nbformat": 4,
 "nbformat_minor": 2
}
