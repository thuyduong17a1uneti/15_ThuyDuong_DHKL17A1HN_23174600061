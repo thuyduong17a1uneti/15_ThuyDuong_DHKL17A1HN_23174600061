{
 "cells": [
  {
   "cell_type": "code",
   "execution_count": 2,
   "metadata": {},
   "outputs": [],
   "source": [
    "import pandas as pd\n",
    "import numpy as np \n",
    "ser = pd.Series(np.random.randint(1,10,35))\n"
   ]
  },
  {
   "cell_type": "markdown",
   "metadata": {},
   "source": [
    "GIAI THICH:\n",
    "+ np.random.randint(1, 10, 35): Tạo một mảng gồm 35 số nguyên ngẫu nhiên từ 1 đến 9 (9 là giá trị lớn nhất, không bao gồm 10)\n",
    "+ pd.Series(...): Chuyển mảng ngẫu nhiên này thành một Pandas Series `ser` với 35 phần tử."
   ]
  },
  {
   "cell_type": "code",
   "execution_count": 3,
   "metadata": {},
   "outputs": [
    {
     "name": "stdout",
     "output_type": "stream",
     "text": [
      "DataFrame có 7 hàng và 5 cột:    0  1  2  3  4\n",
      "0  6  1  5  1  5\n",
      "1  5  4  6  6  5\n",
      "2  8  9  1  2  4\n",
      "3  9  6  4  9  1\n",
      "4  4  3  6  7  4\n",
      "5  6  7  2  3  5\n",
      "6  4  2  2  4  2\n"
     ]
    }
   ],
   "source": [
    "# Chuyển Series `ser` thành một DataFrame với 7 hàng và 5 cột\n",
    "df = pd.DataFrame(ser.values.reshape(7, 5))\n",
    "\n",
    "print(\"DataFrame có 7 hàng và 5 cột:\",df)"
   ]
  }
 ],
 "metadata": {
  "kernelspec": {
   "display_name": "Python 3",
   "language": "python",
   "name": "python3"
  },
  "language_info": {
   "codemirror_mode": {
    "name": "ipython",
    "version": 3
   },
   "file_extension": ".py",
   "mimetype": "text/x-python",
   "name": "python",
   "nbconvert_exporter": "python",
   "pygments_lexer": "ipython3",
   "version": "3.11.5"
  }
 },
 "nbformat": 4,
 "nbformat_minor": 2
}
