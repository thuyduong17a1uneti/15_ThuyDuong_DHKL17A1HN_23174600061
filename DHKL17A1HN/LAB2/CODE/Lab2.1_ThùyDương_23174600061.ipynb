{
 "cells": [
  {
   "cell_type": "markdown",
   "metadata": {},
   "source": [
    "câu 1.\n"
   ]
  },
  {
   "cell_type": "code",
   "execution_count": 2,
   "metadata": {},
   "outputs": [
    {
     "name": "stdout",
     "output_type": "stream",
     "text": [
      "Nhiệt độ trong tháng:\n",
      " [15.29 25.48 19.12 21.37 10.38 22.35 22.24 22.34 28.87 23.64 17.19 18.74\n",
      " 23.95 11.2  23.34 23.41 14.21 12.58 16.31 17.27 21.4  18.77 29.77 12.04\n",
      " 14.18 13.23 23.06 15.07 19.33 14.89]\n",
      "Trung bình nhiệt độ trong tháng là: 19.034000000000002\n"
     ]
    }
   ],
   "source": [
    "import numpy as np\n",
    "\n",
    "nhiet_do = np.round(np.random.uniform(10.0, 30.0, size = 30),2)\n",
    "\n",
    "print(\"Nhiệt độ trong tháng:\\n\",nhiet_do)\n",
    "print(\"Trung bình nhiệt độ trong tháng là:\", np.mean(nhiet_do))"
   ]
  },
  {
   "cell_type": "markdown",
   "metadata": {},
   "source": [
    "câu 2"
   ]
  },
  {
   "cell_type": "code",
   "execution_count": 3,
   "metadata": {},
   "outputs": [
    {
     "name": "stdout",
     "output_type": "stream",
     "text": [
      "Nhiệt độ ngày cao nhất trong tháng là: 29.77\n",
      "Nhiệt độ ngày thấp nhất trong tháng là: 10.38\n",
      "Ngày có nhiệt độ cao nhất trong tháng là: 23\n",
      "Ngày có nhiệt độ thấp nhất trong tháng là: 5\n"
     ]
    }
   ],
   "source": [
    "# tìm nhiệt dộ max and min\n",
    "max_temp = np.max(nhiet_do)\n",
    "min_temp = np.min(nhiet_do)\n",
    "\n",
    "# xác định ngày có nhiệt độ cao nhất và thấp nhất\n",
    "# chú ý: ngày được tính từ 1, không phai 0\n",
    "\n",
    "day_max_temp = np.argmax(nhiet_do) + 1\n",
    "day_min_temp = np.argmin(nhiet_do) + 1\n",
    "\n",
    "print(f\"Nhiệt độ ngày cao nhất trong tháng là:\", max_temp)\n",
    "print(f\"Nhiệt độ ngày thấp nhất trong tháng là:\", min_temp)\n",
    "print(f\"Ngày có nhiệt độ cao nhất trong tháng là:\", day_max_temp)\n",
    "print(f\"Ngày có nhiệt độ thấp nhất trong tháng là:\", day_min_temp)\n"
   ]
  },
  {
   "cell_type": "code",
   "execution_count": 4,
   "metadata": {},
   "outputs": [
    {
     "name": "stdout",
     "output_type": "stream",
     "text": [
      "Nhiệt độ chênh lệch giữa các ngày: 22\n",
      "Nhiệt độ chênh lệch co sự biến đổi nhiệt cao nhất là: 11.0\n"
     ]
    }
   ],
   "source": [
    "# tạo mảng chứa nhiệt độ  của ngày hôm truớc ( trừ ngày cuối cùng) của mảng nhiet_do\n",
    "ngay_truoc = nhiet_do[:-1]\n",
    "\n",
    "# tao mảng chứa nhiệt độ của  ngày hôm sau ( trừ ngà đàu tiên ) của mảng nhiệt độ\n",
    "ngay_sau = nhiet_do[1:]\n",
    "\n",
    "# tính toán sự chênh lệch nhiệt độ giữa ngày hôm sau và ngày hôm trước\n",
    "chenh_lech = ngay_sau - ngay_truoc\n",
    "\n",
    "# xác định ngày có sự chênh lệch nhiệt độ lonws nhất\n",
    "dff_max = np.argmax(np.abs(chenh_lech))\n",
    "max_chenh_lech = chenh_lech[dff_max - 1]\n",
    "\n",
    "print(f\"Nhiệt độ chênh lệch giữa các ngày:\",dff_max)\n",
    "print(f\"Nhiệt độ chênh lệch co sự biến đổi nhiệt cao nhất là:\",max_chenh_lech)"
   ]
  },
  {
   "cell_type": "markdown",
   "metadata": {},
   "source": [
    "câu  3"
   ]
  },
  {
   "cell_type": "code",
   "execution_count": 6,
   "metadata": {},
   "outputs": [
    {
     "name": "stdout",
     "output_type": "stream",
     "text": [
      "Các ngày có nhiệt độ trên 20°C: [ 2  4  6  7  8  9 10 13 15 16 21 23 27]\n",
      "Nhiệt độ các ngày 5, 10, 15, 20 và 25: [10.38 23.64 23.34 17.27 14.18]\n",
      "Nhiệt độ trên trung bình: [25.48 19.12 21.37 22.35 22.24 22.34 28.87 23.64 23.95 23.34 23.41 21.4\n",
      " 29.77 23.06 19.33]\n",
      "Nhiệt độ các ngày chẵn: [25.48 21.37 22.35 22.34 23.64 18.74 11.2  23.41 12.58 17.27 18.77 12.04\n",
      " 13.23 15.07 14.89]\n",
      "Nhiệt độ các ngày lẻ: [15.29 19.12 10.38 22.24 28.87 17.19 23.95 23.34 14.21 16.31 21.4  29.77\n",
      " 14.18 23.06 19.33]\n"
     ]
    }
   ],
   "source": [
    "# Các ngày có nhiệt độ trên 20°C\n",
    "ngay_tren_20 = np.where(nhiet_do > 20)[0] + 1\n",
    "\n",
    "# Nhiệt độ của các ngày cụ thể\n",
    "ngay_can_kiem_tra = [5, 10, 15, 20, 25]\n",
    "nhiet_do_cac_ngay = nhiet_do[[d - 1 for d in ngay_can_kiem_tra]]\n",
    "\n",
    "# Nhiệt độ trên trung bình\n",
    "nhiet_do_tren_tb = nhiet_do[nhiet_do > np.mean(nhiet_do)]\n",
    "\n",
    "# Nhiệt độ của các ngày chẵn và lẻ\n",
    "nhiet_do_ngay_chan = nhiet_do[1::2]  \n",
    "nhiet_do_ngay_le = nhiet_do[0::2]  \n",
    "\n",
    "print(\"Các ngày có nhiệt độ trên 20°C:\", ngay_tren_20)\n",
    "print(\"Nhiệt độ các ngày 5, 10, 15, 20 và 25:\", nhiet_do_cac_ngay)\n",
    "print(\"Nhiệt độ trên trung bình:\", nhiet_do_tren_tb)\n",
    "print(\"Nhiệt độ các ngày chẵn:\", nhiet_do_ngay_chan)\n",
    "print(\"Nhiệt độ các ngày lẻ:\", nhiet_do_ngay_le)"
   ]
  }
 ],
 "metadata": {
  "kernelspec": {
   "display_name": "Python 3",
   "language": "python",
   "name": "python3"
  },
  "language_info": {
   "codemirror_mode": {
    "name": "ipython",
    "version": 3
   },
   "file_extension": ".py",
   "mimetype": "text/x-python",
   "name": "python",
   "nbconvert_exporter": "python",
   "pygments_lexer": "ipython3",
   "version": "3.13.0"
  }
 },
 "nbformat": 4,
 "nbformat_minor": 2
}
